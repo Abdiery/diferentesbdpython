{
 "cells": [
  {
   "cell_type": "code",
   "execution_count": 3,
   "id": "f8eaecf4",
   "metadata": {},
   "outputs": [
    {
     "name": "stdout",
     "output_type": "stream",
     "text": [
      "Requirement already satisfied: pyodbc in c:\\users\\dani\\anaconda3\\lib\\site-packages (4.0.34)\n",
      "Note: you may need to restart the kernel to use updated packages.\n"
     ]
    }
   ],
   "source": [
    "#DANIEL ABDIERY HERNANDEZ BERAS 2022-1319 ITLA\n",
    "#Codigo para instalar PYODBC libreria para trabajar Python con SQL\n",
    "pip install pyodbc"
   ]
  },
  {
   "cell_type": "code",
   "execution_count": 91,
   "id": "ab4b1aa6",
   "metadata": {},
   "outputs": [],
   "source": [
    "#Importar las demas librerias que usaremos en el proyecto\n",
    "import pandas as pd\n",
    "import pyodbc\n",
    "import pyarrow as pa\n",
    "import redis\n"
   ]
  },
  {
   "cell_type": "code",
   "execution_count": 92,
   "id": "68ec83f7",
   "metadata": {},
   "outputs": [
    {
     "name": "stdout",
     "output_type": "stream",
     "text": [
      "Conexion Exitosa\n"
     ]
    }
   ],
   "source": [
    "#Realizamos un try para hacer la conexion de Python a SQL, si no nos podemos conectar que lance una \n",
    "#excepcion\n",
    "\n",
    "try:\n",
    "    connection=pyodbc.connect('DRIVER={SQL Server};SERVER=DESKTOP-DONSCGR\\SQLEXPRESS;DATABASE=BikeStores;Trusted_Connection=yes;')\n",
    "    print(\"Conexion Exitosa\")\n",
    "except Exception as ex:\n",
    "    print(ex)"
   ]
  },
  {
   "cell_type": "code",
   "execution_count": 93,
   "id": "88b01d2c",
   "metadata": {},
   "outputs": [],
   "source": [
    "#Creamos nuestro cursor\n",
    "cursor=connection.cursor()\n"
   ]
  },
  {
   "cell_type": "code",
   "execution_count": 94,
   "id": "bf700906",
   "metadata": {},
   "outputs": [
    {
     "name": "stdout",
     "output_type": "stream",
     "text": [
      "('Microsoft SQL Server 2019 (RTM) - 15.0.2000.5 (X64) \\n\\tSep 24 2019 13:48:23 \\n\\tCopyright (C) 2019 Microsoft Corporation\\n\\tExpress Edition (64-bit) on Windows 10 Home 10.0 <X64> (Build 19045: ) (Hypervisor)\\n', )\n"
     ]
    }
   ],
   "source": [
    "#Aqui hice esta query para probar la conexion entre SQL y Python, lo que hace es pedir la version de SQL\n",
    "cursor.execute(\"SELECT @@version;\")\n",
    "row=cursor.fetchone()\n",
    "print(row)"
   ]
  },
  {
   "cell_type": "code",
   "execution_count": 103,
   "id": "5cad8062",
   "metadata": {},
   "outputs": [
    {
     "name": "stderr",
     "output_type": "stream",
     "text": [
      "C:\\Users\\Dani\\AppData\\Local\\Temp\\ipykernel_14980\\1068465625.py:2: UserWarning: pandas only supports SQLAlchemy connectable (engine/connection) or database string URI or sqlite3 DBAPI2 connection. Other DBAPI2 objects are not tested. Please consider using SQLAlchemy.\n",
      "  df = pd.read_sql_query(\"SELECT * FROM sales.customers where STATE = 'NY' \", conn)\n"
     ]
    },
    {
     "data": {
      "text/html": [
       "<div>\n",
       "<style scoped>\n",
       "    .dataframe tbody tr th:only-of-type {\n",
       "        vertical-align: middle;\n",
       "    }\n",
       "\n",
       "    .dataframe tbody tr th {\n",
       "        vertical-align: top;\n",
       "    }\n",
       "\n",
       "    .dataframe thead th {\n",
       "        text-align: right;\n",
       "    }\n",
       "</style>\n",
       "<table border=\"1\" class=\"dataframe\">\n",
       "  <thead>\n",
       "    <tr style=\"text-align: right;\">\n",
       "      <th></th>\n",
       "      <th>customer_id</th>\n",
       "      <th>first_name</th>\n",
       "      <th>last_name</th>\n",
       "      <th>phone</th>\n",
       "      <th>email</th>\n",
       "      <th>street</th>\n",
       "      <th>city</th>\n",
       "      <th>state</th>\n",
       "      <th>zip_code</th>\n",
       "    </tr>\n",
       "  </thead>\n",
       "  <tbody>\n",
       "    <tr>\n",
       "      <th>0</th>\n",
       "      <td>1</td>\n",
       "      <td>Debra</td>\n",
       "      <td>Burks</td>\n",
       "      <td>None</td>\n",
       "      <td>debra.burks@yahoo.com</td>\n",
       "      <td>9273 Thorne Ave.</td>\n",
       "      <td>Orchard Park</td>\n",
       "      <td>NY</td>\n",
       "      <td>14127</td>\n",
       "    </tr>\n",
       "    <tr>\n",
       "      <th>1</th>\n",
       "      <td>4</td>\n",
       "      <td>Daryl</td>\n",
       "      <td>Spence</td>\n",
       "      <td>None</td>\n",
       "      <td>daryl.spence@aol.com</td>\n",
       "      <td>988 Pearl Lane</td>\n",
       "      <td>Uniondale</td>\n",
       "      <td>NY</td>\n",
       "      <td>11553</td>\n",
       "    </tr>\n",
       "    <tr>\n",
       "      <th>2</th>\n",
       "      <td>6</td>\n",
       "      <td>Lyndsey</td>\n",
       "      <td>Bean</td>\n",
       "      <td>None</td>\n",
       "      <td>lyndsey.bean@hotmail.com</td>\n",
       "      <td>769 West Road</td>\n",
       "      <td>Fairport</td>\n",
       "      <td>NY</td>\n",
       "      <td>14450</td>\n",
       "    </tr>\n",
       "    <tr>\n",
       "      <th>3</th>\n",
       "      <td>7</td>\n",
       "      <td>Latasha</td>\n",
       "      <td>Hays</td>\n",
       "      <td>(716) 986-3359</td>\n",
       "      <td>latasha.hays@hotmail.com</td>\n",
       "      <td>7014 Manor Station Rd.</td>\n",
       "      <td>Buffalo</td>\n",
       "      <td>NY</td>\n",
       "      <td>14215</td>\n",
       "    </tr>\n",
       "    <tr>\n",
       "      <th>4</th>\n",
       "      <td>8</td>\n",
       "      <td>Jacquline</td>\n",
       "      <td>Duncan</td>\n",
       "      <td>None</td>\n",
       "      <td>jacquline.duncan@yahoo.com</td>\n",
       "      <td>15 Brown St.</td>\n",
       "      <td>Jackson Heights</td>\n",
       "      <td>NY</td>\n",
       "      <td>11372</td>\n",
       "    </tr>\n",
       "  </tbody>\n",
       "</table>\n",
       "</div>"
      ],
      "text/plain": [
       "   customer_id first_name last_name           phone  \\\n",
       "0            1      Debra     Burks            None   \n",
       "1            4      Daryl    Spence            None   \n",
       "2            6    Lyndsey      Bean            None   \n",
       "3            7    Latasha      Hays  (716) 986-3359   \n",
       "4            8  Jacquline    Duncan            None   \n",
       "\n",
       "                        email                   street             city state  \\\n",
       "0       debra.burks@yahoo.com        9273 Thorne Ave.      Orchard Park    NY   \n",
       "1        daryl.spence@aol.com          988 Pearl Lane         Uniondale    NY   \n",
       "2    lyndsey.bean@hotmail.com           769 West Road          Fairport    NY   \n",
       "3    latasha.hays@hotmail.com  7014 Manor Station Rd.           Buffalo    NY   \n",
       "4  jacquline.duncan@yahoo.com            15 Brown St.   Jackson Heights    NY   \n",
       "\n",
       "  zip_code  \n",
       "0    14127  \n",
       "1    11553  \n",
       "2    14450  \n",
       "3    14215  \n",
       "4    11372  "
      ]
     },
     "execution_count": 103,
     "metadata": {},
     "output_type": "execute_result"
    }
   ],
   "source": [
    "#Aqui con la liberia pandas realizo una query en SQL y lo convierto en dataframe\n",
    "df = pd.read_sql_query(\"SELECT * FROM sales.customers where STATE = 'NY' \", conn)\n",
    "df.head()"
   ]
  },
  {
   "cell_type": "code",
   "execution_count": 150,
   "id": "a0a6090f",
   "metadata": {},
   "outputs": [
    {
     "name": "stdout",
     "output_type": "stream",
     "text": [
      "      customer_id first_name last_name           phone  \\\n",
      "0               1      Debra     Burks            None   \n",
      "1               4      Daryl    Spence            None   \n",
      "2               6    Lyndsey      Bean            None   \n",
      "3               7    Latasha      Hays  (716) 986-3359   \n",
      "4               8  Jacquline    Duncan            None   \n",
      "...           ...        ...       ...             ...   \n",
      "1014         1440     Ernest   Rollins            None   \n",
      "1015         1441     Jamaal  Morrison            None   \n",
      "1016         1442     Cassie     Cline            None   \n",
      "1017         1443     Lezlie      Lamb            None   \n",
      "1018         1444     Ivette     Estes            None   \n",
      "\n",
      "                           email                   street             city  \\\n",
      "0          debra.burks@yahoo.com        9273 Thorne Ave.      Orchard Park   \n",
      "1           daryl.spence@aol.com          988 Pearl Lane         Uniondale   \n",
      "2       lyndsey.bean@hotmail.com           769 West Road          Fairport   \n",
      "3       latasha.hays@hotmail.com  7014 Manor Station Rd.           Buffalo   \n",
      "4     jacquline.duncan@yahoo.com            15 Brown St.   Jackson Heights   \n",
      "...                          ...                      ...              ...   \n",
      "1014    ernest.rollins@yahoo.com        4 West Ridge Dr.   Oakland Gardens   \n",
      "1015     jamaal.morrison@msn.com   796 SE. Nut Swamp St.     Staten Island   \n",
      "1016      cassie.cline@gmail.com     947 Lafayette Drive          Brooklyn   \n",
      "1017       lezlie.lamb@gmail.com   401 Brandywine Street     Central Islip   \n",
      "1018      ivette.estes@gmail.com   88 N. Canterbury Ave.       Canandaigua   \n",
      "\n",
      "     state zip_code  \n",
      "0       NY    14127  \n",
      "1       NY    11553  \n",
      "2       NY    14450  \n",
      "3       NY    14215  \n",
      "4       NY    11372  \n",
      "...    ...      ...  \n",
      "1014    NY    11364  \n",
      "1015    NY    10301  \n",
      "1016    NY    11201  \n",
      "1017    NY    11722  \n",
      "1018    NY    14424  \n",
      "\n",
      "[1019 rows x 9 columns]\n"
     ]
    }
   ],
   "source": [
    "print(df)"
   ]
  },
  {
   "cell_type": "code",
   "execution_count": 105,
   "id": "e8511d5c",
   "metadata": {},
   "outputs": [
    {
     "name": "stdout",
     "output_type": "stream",
     "text": [
      "DataFrame is written to Excel File successfully.\n"
     ]
    }
   ],
   "source": [
    "file_name = 'CustomersDataFrame.xlsx'\n",
    "df.to_excel(file_name)\n",
    "print('DataFrame is written to Excel File successfully.')"
   ]
  },
  {
   "cell_type": "code",
   "execution_count": 110,
   "id": "2b6a4a93",
   "metadata": {},
   "outputs": [],
   "source": [
    "#REDIS\n",
    "\n",
    "r = redis.Redis(host='127.0.0.1', port=6379, db=8)"
   ]
  },
  {
   "cell_type": "code",
   "execution_count": 111,
   "id": "0367a4ff",
   "metadata": {},
   "outputs": [],
   "source": [
    "import pickle"
   ]
  },
  {
   "cell_type": "code",
   "execution_count": 112,
   "id": "3eaea87a",
   "metadata": {},
   "outputs": [
    {
     "name": "stderr",
     "output_type": "stream",
     "text": [
      "C:\\Users\\Dani\\AppData\\Local\\Temp\\ipykernel_14980\\3252597705.py:1: FutureWarning: 'pyarrow.default_serialization_context' is deprecated as of 2.0.0 and will be removed in a future version. Use pickle or the pyarrow IPC functionality instead.\n",
      "  context = pa.default_serialization_context()\n"
     ]
    },
    {
     "data": {
      "text/plain": [
       "True"
      ]
     },
     "execution_count": 112,
     "metadata": {},
     "output_type": "execute_result"
    }
   ],
   "source": [
    "context = pa.default_serialization_context()\n",
    "r.set(\"ClientesNY\", context.serialize(df).to_buffer().to_pybytes())"
   ]
  },
  {
   "cell_type": "code",
   "execution_count": 117,
   "id": "482cea40",
   "metadata": {},
   "outputs": [
    {
     "data": {
      "text/plain": [
       "b'ahora ya no tiene la info anterior'"
      ]
     },
     "execution_count": 117,
     "metadata": {},
     "output_type": "execute_result"
    }
   ],
   "source": [
    "r.get(\"ClientesNY\")"
   ]
  },
  {
   "cell_type": "code",
   "execution_count": 118,
   "id": "7be8b39b",
   "metadata": {},
   "outputs": [
    {
     "name": "stderr",
     "output_type": "stream",
     "text": [
      "C:\\Users\\Dani\\anaconda3\\Lib\\site-packages\\IPython\\core\\interactiveshell.py:3466: FutureWarning: 'pyarrow.deserialize' is deprecated as of 2.0.0 and will be removed in a future version. Use pickle or the pyarrow IPC functionality instead.\n",
      "  if await self.run_code(code, result, async_=asy):\n"
     ]
    },
    {
     "ename": "ArrowInvalid",
     "evalue": "Expected to read 1634476133 metadata bytes, but only read 14",
     "output_type": "error",
     "traceback": [
      "\u001b[1;31m---------------------------------------------------------------------------\u001b[0m",
      "\u001b[1;31mArrowInvalid\u001b[0m                              Traceback (most recent call last)",
      "Cell \u001b[1;32mIn[118], line 1\u001b[0m\n\u001b[1;32m----> 1\u001b[0m context\u001b[38;5;241m.\u001b[39mdeserialize(r\u001b[38;5;241m.\u001b[39mget(\u001b[38;5;124m\"\u001b[39m\u001b[38;5;124mClientesNY\u001b[39m\u001b[38;5;124m\"\u001b[39m))\n",
      "File \u001b[1;32m~\\anaconda3\\Lib\\site-packages\\pyarrow\\serialization.pxi:222\u001b[0m, in \u001b[0;36mpyarrow.lib.SerializationContext.deserialize\u001b[1;34m()\u001b[0m\n",
      "File \u001b[1;32m~\\anaconda3\\Lib\\site-packages\\pyarrow\\serialization.pxi:550\u001b[0m, in \u001b[0;36mpyarrow.lib.deserialize\u001b[1;34m()\u001b[0m\n",
      "File \u001b[1;32m~\\anaconda3\\Lib\\site-packages\\pyarrow\\serialization.pxi:555\u001b[0m, in \u001b[0;36mpyarrow.lib._deserialize\u001b[1;34m()\u001b[0m\n",
      "File \u001b[1;32m~\\anaconda3\\Lib\\site-packages\\pyarrow\\serialization.pxi:461\u001b[0m, in \u001b[0;36mpyarrow.lib._read_serialized\u001b[1;34m()\u001b[0m\n",
      "File \u001b[1;32m~\\anaconda3\\Lib\\site-packages\\pyarrow\\error.pxi:100\u001b[0m, in \u001b[0;36mpyarrow.lib.check_status\u001b[1;34m()\u001b[0m\n",
      "\u001b[1;31mArrowInvalid\u001b[0m: Expected to read 1634476133 metadata bytes, but only read 14"
     ]
    }
   ],
   "source": [
    "context.deserialize(r.get(\"ClientesNY\"))"
   ]
  },
  {
   "cell_type": "code",
   "execution_count": 128,
   "id": "1b4c72d8",
   "metadata": {},
   "outputs": [
    {
     "name": "stdout",
     "output_type": "stream",
     "text": [
      "Requirement already satisfied: pymongo in c:\\users\\dani\\anaconda3\\lib\\site-packages (4.6.2)\n",
      "Requirement already satisfied: dnspython<3.0.0,>=1.16.0 in c:\\users\\dani\\anaconda3\\lib\\site-packages (from pymongo) (2.6.1)\n"
     ]
    }
   ],
   "source": [
    "#MONGODB\n",
    "#Instalamos pymongo, una libreria para trabajar con mongodb en python\n",
    "!pip3 install pymongo\n"
   ]
  },
  {
   "cell_type": "code",
   "execution_count": 162,
   "id": "03fc5f00",
   "metadata": {},
   "outputs": [],
   "source": [
    "#La importamos, tambien importamos el cliente de mongo\n",
    "import pymongo\n",
    "from pymongo import MongoClient"
   ]
  },
  {
   "cell_type": "code",
   "execution_count": 164,
   "id": "3daf6c74",
   "metadata": {},
   "outputs": [
    {
     "data": {
      "text/plain": [
       "'4.6.2'"
      ]
     },
     "execution_count": 164,
     "metadata": {},
     "output_type": "execute_result"
    }
   ],
   "source": [
    "#Revisamos la version de pymongo\n",
    "pymongo.__version__"
   ]
  },
  {
   "cell_type": "code",
   "execution_count": 173,
   "id": "5fcc243c",
   "metadata": {},
   "outputs": [],
   "source": [
    "#Realizamos la conexion al clientee\n",
    "client = pymongo.MongoClient(\"mongodb://localhost:27017/\")\n"
   ]
  },
  {
   "cell_type": "code",
   "execution_count": 174,
   "id": "bd80ace1",
   "metadata": {},
   "outputs": [],
   "source": [
    "#Con esto convertimos los datos a diccionario para mongo\n",
    "data = df.to_dict(orient='records')"
   ]
  },
  {
   "cell_type": "code",
   "execution_count": 176,
   "id": "7417e630",
   "metadata": {},
   "outputs": [],
   "source": [
    "# Hacemos esto para referirnos a que base de datos y a que coleccion nos vamos a conectar\n",
    "db_name = 'clientesmongo'\n",
    "collection_name = 'clientesny'"
   ]
  },
  {
   "cell_type": "code",
   "execution_count": 177,
   "id": "32c1ea48",
   "metadata": {},
   "outputs": [],
   "source": [
    "#Hacemos la conexion\n",
    "client = MongoClient('localhost', 27017)\n"
   ]
  },
  {
   "cell_type": "code",
   "execution_count": 178,
   "id": "ba0f095a",
   "metadata": {},
   "outputs": [],
   "source": [
    "#Aqui hacemos una seleccion de que base de datos nos vamos a conectar y a que colección, si estas no existen\n",
    "# mongo las creara automaticamente cuaando se inserte el primer documento en ella\n",
    "db = client['clientesmongo']\n",
    "collection = db['clientesny']"
   ]
  },
  {
   "cell_type": "code",
   "execution_count": 179,
   "id": "61b2ac26",
   "metadata": {},
   "outputs": [
    {
     "data": {
      "text/plain": [
       "InsertManyResult([ObjectId('65f0c7debede4920c5a156cd'), ObjectId('65f0c7debede4920c5a156ce'), ObjectId('65f0c7debede4920c5a156cf'), ObjectId('65f0c7debede4920c5a156d0'), ObjectId('65f0c7debede4920c5a156d1'), ObjectId('65f0c7debede4920c5a156d2'), ObjectId('65f0c7debede4920c5a156d3'), ObjectId('65f0c7debede4920c5a156d4'), ObjectId('65f0c7debede4920c5a156d5'), ObjectId('65f0c7debede4920c5a156d6'), ObjectId('65f0c7debede4920c5a156d7'), ObjectId('65f0c7debede4920c5a156d8'), ObjectId('65f0c7debede4920c5a156d9'), ObjectId('65f0c7debede4920c5a156da'), ObjectId('65f0c7debede4920c5a156db'), ObjectId('65f0c7debede4920c5a156dc'), ObjectId('65f0c7debede4920c5a156dd'), ObjectId('65f0c7debede4920c5a156de'), ObjectId('65f0c7debede4920c5a156df'), ObjectId('65f0c7debede4920c5a156e0'), ObjectId('65f0c7debede4920c5a156e1'), ObjectId('65f0c7debede4920c5a156e2'), ObjectId('65f0c7debede4920c5a156e3'), ObjectId('65f0c7debede4920c5a156e4'), ObjectId('65f0c7debede4920c5a156e5'), ObjectId('65f0c7debede4920c5a156e6'), ObjectId('65f0c7debede4920c5a156e7'), ObjectId('65f0c7debede4920c5a156e8'), ObjectId('65f0c7debede4920c5a156e9'), ObjectId('65f0c7debede4920c5a156ea'), ObjectId('65f0c7debede4920c5a156eb'), ObjectId('65f0c7debede4920c5a156ec'), ObjectId('65f0c7debede4920c5a156ed'), ObjectId('65f0c7debede4920c5a156ee'), ObjectId('65f0c7debede4920c5a156ef'), ObjectId('65f0c7debede4920c5a156f0'), ObjectId('65f0c7debede4920c5a156f1'), ObjectId('65f0c7debede4920c5a156f2'), ObjectId('65f0c7debede4920c5a156f3'), ObjectId('65f0c7debede4920c5a156f4'), ObjectId('65f0c7debede4920c5a156f5'), ObjectId('65f0c7debede4920c5a156f6'), ObjectId('65f0c7debede4920c5a156f7'), ObjectId('65f0c7debede4920c5a156f8'), ObjectId('65f0c7debede4920c5a156f9'), ObjectId('65f0c7debede4920c5a156fa'), ObjectId('65f0c7debede4920c5a156fb'), ObjectId('65f0c7debede4920c5a156fc'), ObjectId('65f0c7debede4920c5a156fd'), ObjectId('65f0c7debede4920c5a156fe'), ObjectId('65f0c7debede4920c5a156ff'), ObjectId('65f0c7debede4920c5a15700'), ObjectId('65f0c7debede4920c5a15701'), ObjectId('65f0c7debede4920c5a15702'), ObjectId('65f0c7debede4920c5a15703'), ObjectId('65f0c7debede4920c5a15704'), ObjectId('65f0c7debede4920c5a15705'), ObjectId('65f0c7debede4920c5a15706'), ObjectId('65f0c7debede4920c5a15707'), ObjectId('65f0c7debede4920c5a15708'), ObjectId('65f0c7debede4920c5a15709'), ObjectId('65f0c7debede4920c5a1570a'), ObjectId('65f0c7debede4920c5a1570b'), ObjectId('65f0c7debede4920c5a1570c'), ObjectId('65f0c7debede4920c5a1570d'), ObjectId('65f0c7debede4920c5a1570e'), ObjectId('65f0c7debede4920c5a1570f'), ObjectId('65f0c7debede4920c5a15710'), ObjectId('65f0c7debede4920c5a15711'), ObjectId('65f0c7debede4920c5a15712'), ObjectId('65f0c7debede4920c5a15713'), ObjectId('65f0c7debede4920c5a15714'), ObjectId('65f0c7debede4920c5a15715'), ObjectId('65f0c7debede4920c5a15716'), ObjectId('65f0c7debede4920c5a15717'), ObjectId('65f0c7debede4920c5a15718'), ObjectId('65f0c7debede4920c5a15719'), ObjectId('65f0c7debede4920c5a1571a'), ObjectId('65f0c7debede4920c5a1571b'), ObjectId('65f0c7debede4920c5a1571c'), ObjectId('65f0c7debede4920c5a1571d'), ObjectId('65f0c7debede4920c5a1571e'), ObjectId('65f0c7debede4920c5a1571f'), ObjectId('65f0c7debede4920c5a15720'), ObjectId('65f0c7debede4920c5a15721'), ObjectId('65f0c7debede4920c5a15722'), ObjectId('65f0c7debede4920c5a15723'), ObjectId('65f0c7debede4920c5a15724'), ObjectId('65f0c7debede4920c5a15725'), ObjectId('65f0c7debede4920c5a15726'), ObjectId('65f0c7debede4920c5a15727'), ObjectId('65f0c7debede4920c5a15728'), ObjectId('65f0c7debede4920c5a15729'), ObjectId('65f0c7debede4920c5a1572a'), ObjectId('65f0c7debede4920c5a1572b'), ObjectId('65f0c7debede4920c5a1572c'), ObjectId('65f0c7debede4920c5a1572d'), ObjectId('65f0c7debede4920c5a1572e'), ObjectId('65f0c7debede4920c5a1572f'), ObjectId('65f0c7debede4920c5a15730'), ObjectId('65f0c7debede4920c5a15731'), ObjectId('65f0c7debede4920c5a15732'), ObjectId('65f0c7debede4920c5a15733'), ObjectId('65f0c7debede4920c5a15734'), ObjectId('65f0c7debede4920c5a15735'), ObjectId('65f0c7debede4920c5a15736'), ObjectId('65f0c7debede4920c5a15737'), ObjectId('65f0c7debede4920c5a15738'), ObjectId('65f0c7debede4920c5a15739'), ObjectId('65f0c7debede4920c5a1573a'), ObjectId('65f0c7debede4920c5a1573b'), ObjectId('65f0c7debede4920c5a1573c'), ObjectId('65f0c7debede4920c5a1573d'), ObjectId('65f0c7debede4920c5a1573e'), ObjectId('65f0c7debede4920c5a1573f'), ObjectId('65f0c7debede4920c5a15740'), ObjectId('65f0c7debede4920c5a15741'), ObjectId('65f0c7debede4920c5a15742'), ObjectId('65f0c7debede4920c5a15743'), ObjectId('65f0c7debede4920c5a15744'), ObjectId('65f0c7debede4920c5a15745'), ObjectId('65f0c7debede4920c5a15746'), ObjectId('65f0c7debede4920c5a15747'), ObjectId('65f0c7debede4920c5a15748'), ObjectId('65f0c7debede4920c5a15749'), ObjectId('65f0c7debede4920c5a1574a'), ObjectId('65f0c7debede4920c5a1574b'), ObjectId('65f0c7debede4920c5a1574c'), ObjectId('65f0c7debede4920c5a1574d'), ObjectId('65f0c7debede4920c5a1574e'), ObjectId('65f0c7debede4920c5a1574f'), ObjectId('65f0c7debede4920c5a15750'), ObjectId('65f0c7debede4920c5a15751'), ObjectId('65f0c7debede4920c5a15752'), ObjectId('65f0c7debede4920c5a15753'), ObjectId('65f0c7debede4920c5a15754'), ObjectId('65f0c7debede4920c5a15755'), ObjectId('65f0c7debede4920c5a15756'), ObjectId('65f0c7debede4920c5a15757'), ObjectId('65f0c7debede4920c5a15758'), ObjectId('65f0c7debede4920c5a15759'), ObjectId('65f0c7debede4920c5a1575a'), ObjectId('65f0c7debede4920c5a1575b'), ObjectId('65f0c7debede4920c5a1575c'), ObjectId('65f0c7debede4920c5a1575d'), ObjectId('65f0c7debede4920c5a1575e'), ObjectId('65f0c7debede4920c5a1575f'), ObjectId('65f0c7debede4920c5a15760'), ObjectId('65f0c7debede4920c5a15761'), ObjectId('65f0c7debede4920c5a15762'), ObjectId('65f0c7debede4920c5a15763'), ObjectId('65f0c7debede4920c5a15764'), ObjectId('65f0c7debede4920c5a15765'), ObjectId('65f0c7debede4920c5a15766'), ObjectId('65f0c7debede4920c5a15767'), ObjectId('65f0c7debede4920c5a15768'), ObjectId('65f0c7debede4920c5a15769'), ObjectId('65f0c7debede4920c5a1576a'), ObjectId('65f0c7debede4920c5a1576b'), ObjectId('65f0c7debede4920c5a1576c'), ObjectId('65f0c7debede4920c5a1576d'), ObjectId('65f0c7debede4920c5a1576e'), ObjectId('65f0c7debede4920c5a1576f'), ObjectId('65f0c7debede4920c5a15770'), ObjectId('65f0c7debede4920c5a15771'), ObjectId('65f0c7debede4920c5a15772'), ObjectId('65f0c7debede4920c5a15773'), ObjectId('65f0c7debede4920c5a15774'), ObjectId('65f0c7debede4920c5a15775'), ObjectId('65f0c7debede4920c5a15776'), ObjectId('65f0c7debede4920c5a15777'), ObjectId('65f0c7debede4920c5a15778'), ObjectId('65f0c7debede4920c5a15779'), ObjectId('65f0c7debede4920c5a1577a'), ObjectId('65f0c7debede4920c5a1577b'), ObjectId('65f0c7debede4920c5a1577c'), ObjectId('65f0c7debede4920c5a1577d'), ObjectId('65f0c7debede4920c5a1577e'), ObjectId('65f0c7debede4920c5a1577f'), ObjectId('65f0c7debede4920c5a15780'), ObjectId('65f0c7debede4920c5a15781'), ObjectId('65f0c7debede4920c5a15782'), ObjectId('65f0c7debede4920c5a15783'), ObjectId('65f0c7debede4920c5a15784'), ObjectId('65f0c7debede4920c5a15785'), ObjectId('65f0c7debede4920c5a15786'), ObjectId('65f0c7debede4920c5a15787'), ObjectId('65f0c7debede4920c5a15788'), ObjectId('65f0c7debede4920c5a15789'), ObjectId('65f0c7debede4920c5a1578a'), ObjectId('65f0c7debede4920c5a1578b'), ObjectId('65f0c7debede4920c5a1578c'), ObjectId('65f0c7debede4920c5a1578d'), ObjectId('65f0c7debede4920c5a1578e'), ObjectId('65f0c7debede4920c5a1578f'), ObjectId('65f0c7debede4920c5a15790'), ObjectId('65f0c7debede4920c5a15791'), ObjectId('65f0c7debede4920c5a15792'), ObjectId('65f0c7debede4920c5a15793'), ObjectId('65f0c7debede4920c5a15794'), ObjectId('65f0c7debede4920c5a15795'), ObjectId('65f0c7debede4920c5a15796'), ObjectId('65f0c7debede4920c5a15797'), ObjectId('65f0c7debede4920c5a15798'), ObjectId('65f0c7debede4920c5a15799'), ObjectId('65f0c7debede4920c5a1579a'), ObjectId('65f0c7debede4920c5a1579b'), ObjectId('65f0c7debede4920c5a1579c'), ObjectId('65f0c7debede4920c5a1579d'), ObjectId('65f0c7debede4920c5a1579e'), ObjectId('65f0c7debede4920c5a1579f'), ObjectId('65f0c7debede4920c5a157a0'), ObjectId('65f0c7debede4920c5a157a1'), ObjectId('65f0c7debede4920c5a157a2'), ObjectId('65f0c7debede4920c5a157a3'), ObjectId('65f0c7debede4920c5a157a4'), ObjectId('65f0c7debede4920c5a157a5'), ObjectId('65f0c7debede4920c5a157a6'), ObjectId('65f0c7debede4920c5a157a7'), ObjectId('65f0c7debede4920c5a157a8'), ObjectId('65f0c7debede4920c5a157a9'), ObjectId('65f0c7debede4920c5a157aa'), ObjectId('65f0c7debede4920c5a157ab'), ObjectId('65f0c7debede4920c5a157ac'), ObjectId('65f0c7debede4920c5a157ad'), ObjectId('65f0c7debede4920c5a157ae'), ObjectId('65f0c7debede4920c5a157af'), ObjectId('65f0c7debede4920c5a157b0'), ObjectId('65f0c7debede4920c5a157b1'), ObjectId('65f0c7debede4920c5a157b2'), ObjectId('65f0c7debede4920c5a157b3'), ObjectId('65f0c7debede4920c5a157b4'), ObjectId('65f0c7debede4920c5a157b5'), ObjectId('65f0c7debede4920c5a157b6'), ObjectId('65f0c7debede4920c5a157b7'), ObjectId('65f0c7debede4920c5a157b8'), ObjectId('65f0c7debede4920c5a157b9'), ObjectId('65f0c7debede4920c5a157ba'), ObjectId('65f0c7debede4920c5a157bb'), ObjectId('65f0c7debede4920c5a157bc'), ObjectId('65f0c7debede4920c5a157bd'), ObjectId('65f0c7debede4920c5a157be'), ObjectId('65f0c7debede4920c5a157bf'), ObjectId('65f0c7debede4920c5a157c0'), ObjectId('65f0c7debede4920c5a157c1'), ObjectId('65f0c7debede4920c5a157c2'), ObjectId('65f0c7debede4920c5a157c3'), ObjectId('65f0c7debede4920c5a157c4'), ObjectId('65f0c7debede4920c5a157c5'), ObjectId('65f0c7debede4920c5a157c6'), ObjectId('65f0c7debede4920c5a157c7'), ObjectId('65f0c7debede4920c5a157c8'), ObjectId('65f0c7debede4920c5a157c9'), ObjectId('65f0c7debede4920c5a157ca'), ObjectId('65f0c7debede4920c5a157cb'), ObjectId('65f0c7debede4920c5a157cc'), ObjectId('65f0c7debede4920c5a157cd'), ObjectId('65f0c7debede4920c5a157ce'), ObjectId('65f0c7debede4920c5a157cf'), ObjectId('65f0c7debede4920c5a157d0'), ObjectId('65f0c7debede4920c5a157d1'), ObjectId('65f0c7debede4920c5a157d2'), ObjectId('65f0c7debede4920c5a157d3'), ObjectId('65f0c7debede4920c5a157d4'), ObjectId('65f0c7debede4920c5a157d5'), ObjectId('65f0c7debede4920c5a157d6'), ObjectId('65f0c7debede4920c5a157d7'), ObjectId('65f0c7debede4920c5a157d8'), ObjectId('65f0c7debede4920c5a157d9'), ObjectId('65f0c7debede4920c5a157da'), ObjectId('65f0c7debede4920c5a157db'), ObjectId('65f0c7debede4920c5a157dc'), ObjectId('65f0c7debede4920c5a157dd'), ObjectId('65f0c7debede4920c5a157de'), ObjectId('65f0c7debede4920c5a157df'), ObjectId('65f0c7debede4920c5a157e0'), ObjectId('65f0c7debede4920c5a157e1'), ObjectId('65f0c7debede4920c5a157e2'), ObjectId('65f0c7debede4920c5a157e3'), ObjectId('65f0c7debede4920c5a157e4'), ObjectId('65f0c7debede4920c5a157e5'), ObjectId('65f0c7debede4920c5a157e6'), ObjectId('65f0c7debede4920c5a157e7'), ObjectId('65f0c7debede4920c5a157e8'), ObjectId('65f0c7debede4920c5a157e9'), ObjectId('65f0c7debede4920c5a157ea'), ObjectId('65f0c7debede4920c5a157eb'), ObjectId('65f0c7debede4920c5a157ec'), ObjectId('65f0c7debede4920c5a157ed'), ObjectId('65f0c7debede4920c5a157ee'), ObjectId('65f0c7debede4920c5a157ef'), ObjectId('65f0c7debede4920c5a157f0'), ObjectId('65f0c7debede4920c5a157f1'), ObjectId('65f0c7debede4920c5a157f2'), ObjectId('65f0c7debede4920c5a157f3'), ObjectId('65f0c7debede4920c5a157f4'), ObjectId('65f0c7debede4920c5a157f5'), ObjectId('65f0c7debede4920c5a157f6'), ObjectId('65f0c7debede4920c5a157f7'), ObjectId('65f0c7debede4920c5a157f8'), ObjectId('65f0c7debede4920c5a157f9'), ObjectId('65f0c7debede4920c5a157fa'), ObjectId('65f0c7debede4920c5a157fb'), ObjectId('65f0c7debede4920c5a157fc'), ObjectId('65f0c7debede4920c5a157fd'), ObjectId('65f0c7debede4920c5a157fe'), ObjectId('65f0c7debede4920c5a157ff'), ObjectId('65f0c7debede4920c5a15800'), ObjectId('65f0c7debede4920c5a15801'), ObjectId('65f0c7debede4920c5a15802'), ObjectId('65f0c7debede4920c5a15803'), ObjectId('65f0c7debede4920c5a15804'), ObjectId('65f0c7debede4920c5a15805'), ObjectId('65f0c7debede4920c5a15806'), ObjectId('65f0c7debede4920c5a15807'), ObjectId('65f0c7debede4920c5a15808'), ObjectId('65f0c7debede4920c5a15809'), ObjectId('65f0c7debede4920c5a1580a'), ObjectId('65f0c7debede4920c5a1580b'), ObjectId('65f0c7debede4920c5a1580c'), ObjectId('65f0c7debede4920c5a1580d'), ObjectId('65f0c7debede4920c5a1580e'), ObjectId('65f0c7debede4920c5a1580f'), ObjectId('65f0c7debede4920c5a15810'), ObjectId('65f0c7debede4920c5a15811'), ObjectId('65f0c7debede4920c5a15812'), ObjectId('65f0c7debede4920c5a15813'), ObjectId('65f0c7debede4920c5a15814'), ObjectId('65f0c7debede4920c5a15815'), ObjectId('65f0c7debede4920c5a15816'), ObjectId('65f0c7debede4920c5a15817'), ObjectId('65f0c7debede4920c5a15818'), ObjectId('65f0c7debede4920c5a15819'), ObjectId('65f0c7debede4920c5a1581a'), ObjectId('65f0c7debede4920c5a1581b'), ObjectId('65f0c7debede4920c5a1581c'), ObjectId('65f0c7debede4920c5a1581d'), ObjectId('65f0c7debede4920c5a1581e'), ObjectId('65f0c7debede4920c5a1581f'), ObjectId('65f0c7debede4920c5a15820'), ObjectId('65f0c7debede4920c5a15821'), ObjectId('65f0c7debede4920c5a15822'), ObjectId('65f0c7debede4920c5a15823'), ObjectId('65f0c7debede4920c5a15824'), ObjectId('65f0c7debede4920c5a15825'), ObjectId('65f0c7debede4920c5a15826'), ObjectId('65f0c7debede4920c5a15827'), ObjectId('65f0c7debede4920c5a15828'), ObjectId('65f0c7debede4920c5a15829'), ObjectId('65f0c7debede4920c5a1582a'), ObjectId('65f0c7debede4920c5a1582b'), ObjectId('65f0c7debede4920c5a1582c'), ObjectId('65f0c7debede4920c5a1582d'), ObjectId('65f0c7debede4920c5a1582e'), ObjectId('65f0c7debede4920c5a1582f'), ObjectId('65f0c7debede4920c5a15830'), ObjectId('65f0c7debede4920c5a15831'), ObjectId('65f0c7debede4920c5a15832'), ObjectId('65f0c7debede4920c5a15833'), ObjectId('65f0c7debede4920c5a15834'), ObjectId('65f0c7debede4920c5a15835'), ObjectId('65f0c7debede4920c5a15836'), ObjectId('65f0c7debede4920c5a15837'), ObjectId('65f0c7debede4920c5a15838'), ObjectId('65f0c7debede4920c5a15839'), ObjectId('65f0c7debede4920c5a1583a'), ObjectId('65f0c7debede4920c5a1583b'), ObjectId('65f0c7debede4920c5a1583c'), ObjectId('65f0c7debede4920c5a1583d'), ObjectId('65f0c7debede4920c5a1583e'), ObjectId('65f0c7debede4920c5a1583f'), ObjectId('65f0c7debede4920c5a15840'), ObjectId('65f0c7debede4920c5a15841'), ObjectId('65f0c7debede4920c5a15842'), ObjectId('65f0c7debede4920c5a15843'), ObjectId('65f0c7debede4920c5a15844'), ObjectId('65f0c7debede4920c5a15845'), ObjectId('65f0c7debede4920c5a15846'), ObjectId('65f0c7debede4920c5a15847'), ObjectId('65f0c7debede4920c5a15848'), ObjectId('65f0c7debede4920c5a15849'), ObjectId('65f0c7debede4920c5a1584a'), ObjectId('65f0c7debede4920c5a1584b'), ObjectId('65f0c7debede4920c5a1584c'), ObjectId('65f0c7debede4920c5a1584d'), ObjectId('65f0c7debede4920c5a1584e'), ObjectId('65f0c7debede4920c5a1584f'), ObjectId('65f0c7debede4920c5a15850'), ObjectId('65f0c7debede4920c5a15851'), ObjectId('65f0c7debede4920c5a15852'), ObjectId('65f0c7debede4920c5a15853'), ObjectId('65f0c7debede4920c5a15854'), ObjectId('65f0c7debede4920c5a15855'), ObjectId('65f0c7debede4920c5a15856'), ObjectId('65f0c7debede4920c5a15857'), ObjectId('65f0c7debede4920c5a15858'), ObjectId('65f0c7debede4920c5a15859'), ObjectId('65f0c7debede4920c5a1585a'), ObjectId('65f0c7debede4920c5a1585b'), ObjectId('65f0c7debede4920c5a1585c'), ObjectId('65f0c7debede4920c5a1585d'), ObjectId('65f0c7debede4920c5a1585e'), ObjectId('65f0c7debede4920c5a1585f'), ObjectId('65f0c7debede4920c5a15860'), ObjectId('65f0c7debede4920c5a15861'), ObjectId('65f0c7debede4920c5a15862'), ObjectId('65f0c7debede4920c5a15863'), ObjectId('65f0c7debede4920c5a15864'), ObjectId('65f0c7debede4920c5a15865'), ObjectId('65f0c7debede4920c5a15866'), ObjectId('65f0c7debede4920c5a15867'), ObjectId('65f0c7debede4920c5a15868'), ObjectId('65f0c7debede4920c5a15869'), ObjectId('65f0c7debede4920c5a1586a'), ObjectId('65f0c7debede4920c5a1586b'), ObjectId('65f0c7debede4920c5a1586c'), ObjectId('65f0c7debede4920c5a1586d'), ObjectId('65f0c7debede4920c5a1586e'), ObjectId('65f0c7debede4920c5a1586f'), ObjectId('65f0c7debede4920c5a15870'), ObjectId('65f0c7debede4920c5a15871'), ObjectId('65f0c7debede4920c5a15872'), ObjectId('65f0c7debede4920c5a15873'), ObjectId('65f0c7debede4920c5a15874'), ObjectId('65f0c7debede4920c5a15875'), ObjectId('65f0c7debede4920c5a15876'), ObjectId('65f0c7debede4920c5a15877'), ObjectId('65f0c7debede4920c5a15878'), ObjectId('65f0c7debede4920c5a15879'), ObjectId('65f0c7debede4920c5a1587a'), ObjectId('65f0c7debede4920c5a1587b'), ObjectId('65f0c7debede4920c5a1587c'), ObjectId('65f0c7debede4920c5a1587d'), ObjectId('65f0c7debede4920c5a1587e'), ObjectId('65f0c7debede4920c5a1587f'), ObjectId('65f0c7debede4920c5a15880'), ObjectId('65f0c7debede4920c5a15881'), ObjectId('65f0c7debede4920c5a15882'), ObjectId('65f0c7debede4920c5a15883'), ObjectId('65f0c7debede4920c5a15884'), ObjectId('65f0c7debede4920c5a15885'), ObjectId('65f0c7debede4920c5a15886'), ObjectId('65f0c7debede4920c5a15887'), ObjectId('65f0c7debede4920c5a15888'), ObjectId('65f0c7debede4920c5a15889'), ObjectId('65f0c7debede4920c5a1588a'), ObjectId('65f0c7debede4920c5a1588b'), ObjectId('65f0c7debede4920c5a1588c'), ObjectId('65f0c7debede4920c5a1588d'), ObjectId('65f0c7debede4920c5a1588e'), ObjectId('65f0c7debede4920c5a1588f'), ObjectId('65f0c7debede4920c5a15890'), ObjectId('65f0c7debede4920c5a15891'), ObjectId('65f0c7debede4920c5a15892'), ObjectId('65f0c7debede4920c5a15893'), ObjectId('65f0c7debede4920c5a15894'), ObjectId('65f0c7debede4920c5a15895'), ObjectId('65f0c7debede4920c5a15896'), ObjectId('65f0c7debede4920c5a15897'), ObjectId('65f0c7debede4920c5a15898'), ObjectId('65f0c7debede4920c5a15899'), ObjectId('65f0c7debede4920c5a1589a'), ObjectId('65f0c7debede4920c5a1589b'), ObjectId('65f0c7debede4920c5a1589c'), ObjectId('65f0c7debede4920c5a1589d'), ObjectId('65f0c7debede4920c5a1589e'), ObjectId('65f0c7debede4920c5a1589f'), ObjectId('65f0c7debede4920c5a158a0'), ObjectId('65f0c7debede4920c5a158a1'), ObjectId('65f0c7debede4920c5a158a2'), ObjectId('65f0c7debede4920c5a158a3'), ObjectId('65f0c7debede4920c5a158a4'), ObjectId('65f0c7debede4920c5a158a5'), ObjectId('65f0c7debede4920c5a158a6'), ObjectId('65f0c7debede4920c5a158a7'), ObjectId('65f0c7debede4920c5a158a8'), ObjectId('65f0c7debede4920c5a158a9'), ObjectId('65f0c7debede4920c5a158aa'), ObjectId('65f0c7debede4920c5a158ab'), ObjectId('65f0c7debede4920c5a158ac'), ObjectId('65f0c7debede4920c5a158ad'), ObjectId('65f0c7debede4920c5a158ae'), ObjectId('65f0c7debede4920c5a158af'), ObjectId('65f0c7debede4920c5a158b0'), ObjectId('65f0c7debede4920c5a158b1'), ObjectId('65f0c7debede4920c5a158b2'), ObjectId('65f0c7debede4920c5a158b3'), ObjectId('65f0c7debede4920c5a158b4'), ObjectId('65f0c7debede4920c5a158b5'), ObjectId('65f0c7debede4920c5a158b6'), ObjectId('65f0c7debede4920c5a158b7'), ObjectId('65f0c7debede4920c5a158b8'), ObjectId('65f0c7debede4920c5a158b9'), ObjectId('65f0c7debede4920c5a158ba'), ObjectId('65f0c7debede4920c5a158bb'), ObjectId('65f0c7debede4920c5a158bc'), ObjectId('65f0c7debede4920c5a158bd'), ObjectId('65f0c7debede4920c5a158be'), ObjectId('65f0c7debede4920c5a158bf'), ObjectId('65f0c7debede4920c5a158c0'), ObjectId('65f0c7debede4920c5a158c1'), ObjectId('65f0c7debede4920c5a158c2'), ObjectId('65f0c7debede4920c5a158c3'), ObjectId('65f0c7debede4920c5a158c4'), ObjectId('65f0c7debede4920c5a158c5'), ObjectId('65f0c7debede4920c5a158c6'), ObjectId('65f0c7debede4920c5a158c7'), ObjectId('65f0c7debede4920c5a158c8'), ObjectId('65f0c7debede4920c5a158c9'), ObjectId('65f0c7debede4920c5a158ca'), ObjectId('65f0c7debede4920c5a158cb'), ObjectId('65f0c7debede4920c5a158cc'), ObjectId('65f0c7debede4920c5a158cd'), ObjectId('65f0c7debede4920c5a158ce'), ObjectId('65f0c7debede4920c5a158cf'), ObjectId('65f0c7debede4920c5a158d0'), ObjectId('65f0c7debede4920c5a158d1'), ObjectId('65f0c7debede4920c5a158d2'), ObjectId('65f0c7debede4920c5a158d3'), ObjectId('65f0c7debede4920c5a158d4'), ObjectId('65f0c7debede4920c5a158d5'), ObjectId('65f0c7debede4920c5a158d6'), ObjectId('65f0c7debede4920c5a158d7'), ObjectId('65f0c7debede4920c5a158d8'), ObjectId('65f0c7debede4920c5a158d9'), ObjectId('65f0c7debede4920c5a158da'), ObjectId('65f0c7debede4920c5a158db'), ObjectId('65f0c7debede4920c5a158dc'), ObjectId('65f0c7debede4920c5a158dd'), ObjectId('65f0c7debede4920c5a158de'), ObjectId('65f0c7debede4920c5a158df'), ObjectId('65f0c7debede4920c5a158e0'), ObjectId('65f0c7debede4920c5a158e1'), ObjectId('65f0c7debede4920c5a158e2'), ObjectId('65f0c7debede4920c5a158e3'), ObjectId('65f0c7debede4920c5a158e4'), ObjectId('65f0c7debede4920c5a158e5'), ObjectId('65f0c7debede4920c5a158e6'), ObjectId('65f0c7debede4920c5a158e7'), ObjectId('65f0c7debede4920c5a158e8'), ObjectId('65f0c7debede4920c5a158e9'), ObjectId('65f0c7debede4920c5a158ea'), ObjectId('65f0c7debede4920c5a158eb'), ObjectId('65f0c7debede4920c5a158ec'), ObjectId('65f0c7debede4920c5a158ed'), ObjectId('65f0c7debede4920c5a158ee'), ObjectId('65f0c7debede4920c5a158ef'), ObjectId('65f0c7debede4920c5a158f0'), ObjectId('65f0c7debede4920c5a158f1'), ObjectId('65f0c7debede4920c5a158f2'), ObjectId('65f0c7debede4920c5a158f3'), ObjectId('65f0c7debede4920c5a158f4'), ObjectId('65f0c7debede4920c5a158f5'), ObjectId('65f0c7debede4920c5a158f6'), ObjectId('65f0c7debede4920c5a158f7'), ObjectId('65f0c7debede4920c5a158f8'), ObjectId('65f0c7debede4920c5a158f9'), ObjectId('65f0c7debede4920c5a158fa'), ObjectId('65f0c7debede4920c5a158fb'), ObjectId('65f0c7debede4920c5a158fc'), ObjectId('65f0c7debede4920c5a158fd'), ObjectId('65f0c7debede4920c5a158fe'), ObjectId('65f0c7debede4920c5a158ff'), ObjectId('65f0c7debede4920c5a15900'), ObjectId('65f0c7debede4920c5a15901'), ObjectId('65f0c7debede4920c5a15902'), ObjectId('65f0c7debede4920c5a15903'), ObjectId('65f0c7debede4920c5a15904'), ObjectId('65f0c7debede4920c5a15905'), ObjectId('65f0c7debede4920c5a15906'), ObjectId('65f0c7debede4920c5a15907'), ObjectId('65f0c7debede4920c5a15908'), ObjectId('65f0c7debede4920c5a15909'), ObjectId('65f0c7debede4920c5a1590a'), ObjectId('65f0c7debede4920c5a1590b'), ObjectId('65f0c7debede4920c5a1590c'), ObjectId('65f0c7debede4920c5a1590d'), ObjectId('65f0c7debede4920c5a1590e'), ObjectId('65f0c7debede4920c5a1590f'), ObjectId('65f0c7debede4920c5a15910'), ObjectId('65f0c7debede4920c5a15911'), ObjectId('65f0c7debede4920c5a15912'), ObjectId('65f0c7debede4920c5a15913'), ObjectId('65f0c7debede4920c5a15914'), ObjectId('65f0c7debede4920c5a15915'), ObjectId('65f0c7debede4920c5a15916'), ObjectId('65f0c7debede4920c5a15917'), ObjectId('65f0c7debede4920c5a15918'), ObjectId('65f0c7debede4920c5a15919'), ObjectId('65f0c7debede4920c5a1591a'), ObjectId('65f0c7debede4920c5a1591b'), ObjectId('65f0c7debede4920c5a1591c'), ObjectId('65f0c7debede4920c5a1591d'), ObjectId('65f0c7debede4920c5a1591e'), ObjectId('65f0c7debede4920c5a1591f'), ObjectId('65f0c7debede4920c5a15920'), ObjectId('65f0c7debede4920c5a15921'), ObjectId('65f0c7debede4920c5a15922'), ObjectId('65f0c7debede4920c5a15923'), ObjectId('65f0c7debede4920c5a15924'), ObjectId('65f0c7debede4920c5a15925'), ObjectId('65f0c7debede4920c5a15926'), ObjectId('65f0c7debede4920c5a15927'), ObjectId('65f0c7debede4920c5a15928'), ObjectId('65f0c7debede4920c5a15929'), ObjectId('65f0c7debede4920c5a1592a'), ObjectId('65f0c7debede4920c5a1592b'), ObjectId('65f0c7debede4920c5a1592c'), ObjectId('65f0c7debede4920c5a1592d'), ObjectId('65f0c7debede4920c5a1592e'), ObjectId('65f0c7debede4920c5a1592f'), ObjectId('65f0c7debede4920c5a15930'), ObjectId('65f0c7debede4920c5a15931'), ObjectId('65f0c7debede4920c5a15932'), ObjectId('65f0c7debede4920c5a15933'), ObjectId('65f0c7debede4920c5a15934'), ObjectId('65f0c7debede4920c5a15935'), ObjectId('65f0c7debede4920c5a15936'), ObjectId('65f0c7debede4920c5a15937'), ObjectId('65f0c7debede4920c5a15938'), ObjectId('65f0c7debede4920c5a15939'), ObjectId('65f0c7debede4920c5a1593a'), ObjectId('65f0c7debede4920c5a1593b'), ObjectId('65f0c7debede4920c5a1593c'), ObjectId('65f0c7debede4920c5a1593d'), ObjectId('65f0c7debede4920c5a1593e'), ObjectId('65f0c7debede4920c5a1593f'), ObjectId('65f0c7debede4920c5a15940'), ObjectId('65f0c7debede4920c5a15941'), ObjectId('65f0c7debede4920c5a15942'), ObjectId('65f0c7debede4920c5a15943'), ObjectId('65f0c7debede4920c5a15944'), ObjectId('65f0c7debede4920c5a15945'), ObjectId('65f0c7debede4920c5a15946'), ObjectId('65f0c7debede4920c5a15947'), ObjectId('65f0c7debede4920c5a15948'), ObjectId('65f0c7debede4920c5a15949'), ObjectId('65f0c7debede4920c5a1594a'), ObjectId('65f0c7debede4920c5a1594b'), ObjectId('65f0c7debede4920c5a1594c'), ObjectId('65f0c7debede4920c5a1594d'), ObjectId('65f0c7debede4920c5a1594e'), ObjectId('65f0c7debede4920c5a1594f'), ObjectId('65f0c7debede4920c5a15950'), ObjectId('65f0c7debede4920c5a15951'), ObjectId('65f0c7debede4920c5a15952'), ObjectId('65f0c7debede4920c5a15953'), ObjectId('65f0c7debede4920c5a15954'), ObjectId('65f0c7debede4920c5a15955'), ObjectId('65f0c7debede4920c5a15956'), ObjectId('65f0c7debede4920c5a15957'), ObjectId('65f0c7debede4920c5a15958'), ObjectId('65f0c7debede4920c5a15959'), ObjectId('65f0c7debede4920c5a1595a'), ObjectId('65f0c7debede4920c5a1595b'), ObjectId('65f0c7debede4920c5a1595c'), ObjectId('65f0c7debede4920c5a1595d'), ObjectId('65f0c7debede4920c5a1595e'), ObjectId('65f0c7debede4920c5a1595f'), ObjectId('65f0c7debede4920c5a15960'), ObjectId('65f0c7debede4920c5a15961'), ObjectId('65f0c7debede4920c5a15962'), ObjectId('65f0c7debede4920c5a15963'), ObjectId('65f0c7debede4920c5a15964'), ObjectId('65f0c7debede4920c5a15965'), ObjectId('65f0c7debede4920c5a15966'), ObjectId('65f0c7debede4920c5a15967'), ObjectId('65f0c7debede4920c5a15968'), ObjectId('65f0c7debede4920c5a15969'), ObjectId('65f0c7debede4920c5a1596a'), ObjectId('65f0c7debede4920c5a1596b'), ObjectId('65f0c7debede4920c5a1596c'), ObjectId('65f0c7debede4920c5a1596d'), ObjectId('65f0c7debede4920c5a1596e'), ObjectId('65f0c7debede4920c5a1596f'), ObjectId('65f0c7debede4920c5a15970'), ObjectId('65f0c7debede4920c5a15971'), ObjectId('65f0c7debede4920c5a15972'), ObjectId('65f0c7debede4920c5a15973'), ObjectId('65f0c7debede4920c5a15974'), ObjectId('65f0c7debede4920c5a15975'), ObjectId('65f0c7debede4920c5a15976'), ObjectId('65f0c7debede4920c5a15977'), ObjectId('65f0c7debede4920c5a15978'), ObjectId('65f0c7debede4920c5a15979'), ObjectId('65f0c7debede4920c5a1597a'), ObjectId('65f0c7debede4920c5a1597b'), ObjectId('65f0c7debede4920c5a1597c'), ObjectId('65f0c7debede4920c5a1597d'), ObjectId('65f0c7debede4920c5a1597e'), ObjectId('65f0c7debede4920c5a1597f'), ObjectId('65f0c7debede4920c5a15980'), ObjectId('65f0c7debede4920c5a15981'), ObjectId('65f0c7debede4920c5a15982'), ObjectId('65f0c7debede4920c5a15983'), ObjectId('65f0c7debede4920c5a15984'), ObjectId('65f0c7debede4920c5a15985'), ObjectId('65f0c7debede4920c5a15986'), ObjectId('65f0c7debede4920c5a15987'), ObjectId('65f0c7debede4920c5a15988'), ObjectId('65f0c7debede4920c5a15989'), ObjectId('65f0c7debede4920c5a1598a'), ObjectId('65f0c7debede4920c5a1598b'), ObjectId('65f0c7debede4920c5a1598c'), ObjectId('65f0c7debede4920c5a1598d'), ObjectId('65f0c7debede4920c5a1598e'), ObjectId('65f0c7debede4920c5a1598f'), ObjectId('65f0c7debede4920c5a15990'), ObjectId('65f0c7debede4920c5a15991'), ObjectId('65f0c7debede4920c5a15992'), ObjectId('65f0c7debede4920c5a15993'), ObjectId('65f0c7debede4920c5a15994'), ObjectId('65f0c7debede4920c5a15995'), ObjectId('65f0c7debede4920c5a15996'), ObjectId('65f0c7debede4920c5a15997'), ObjectId('65f0c7debede4920c5a15998'), ObjectId('65f0c7debede4920c5a15999'), ObjectId('65f0c7debede4920c5a1599a'), ObjectId('65f0c7debede4920c5a1599b'), ObjectId('65f0c7debede4920c5a1599c'), ObjectId('65f0c7debede4920c5a1599d'), ObjectId('65f0c7debede4920c5a1599e'), ObjectId('65f0c7debede4920c5a1599f'), ObjectId('65f0c7debede4920c5a159a0'), ObjectId('65f0c7debede4920c5a159a1'), ObjectId('65f0c7debede4920c5a159a2'), ObjectId('65f0c7debede4920c5a159a3'), ObjectId('65f0c7debede4920c5a159a4'), ObjectId('65f0c7debede4920c5a159a5'), ObjectId('65f0c7debede4920c5a159a6'), ObjectId('65f0c7debede4920c5a159a7'), ObjectId('65f0c7debede4920c5a159a8'), ObjectId('65f0c7debede4920c5a159a9'), ObjectId('65f0c7debede4920c5a159aa'), ObjectId('65f0c7debede4920c5a159ab'), ObjectId('65f0c7debede4920c5a159ac'), ObjectId('65f0c7debede4920c5a159ad'), ObjectId('65f0c7debede4920c5a159ae'), ObjectId('65f0c7debede4920c5a159af'), ObjectId('65f0c7debede4920c5a159b0'), ObjectId('65f0c7debede4920c5a159b1'), ObjectId('65f0c7debede4920c5a159b2'), ObjectId('65f0c7debede4920c5a159b3'), ObjectId('65f0c7debede4920c5a159b4'), ObjectId('65f0c7debede4920c5a159b5'), ObjectId('65f0c7debede4920c5a159b6'), ObjectId('65f0c7debede4920c5a159b7'), ObjectId('65f0c7debede4920c5a159b8'), ObjectId('65f0c7debede4920c5a159b9'), ObjectId('65f0c7debede4920c5a159ba'), ObjectId('65f0c7debede4920c5a159bb'), ObjectId('65f0c7debede4920c5a159bc'), ObjectId('65f0c7debede4920c5a159bd'), ObjectId('65f0c7debede4920c5a159be'), ObjectId('65f0c7debede4920c5a159bf'), ObjectId('65f0c7debede4920c5a159c0'), ObjectId('65f0c7debede4920c5a159c1'), ObjectId('65f0c7debede4920c5a159c2'), ObjectId('65f0c7debede4920c5a159c3'), ObjectId('65f0c7debede4920c5a159c4'), ObjectId('65f0c7debede4920c5a159c5'), ObjectId('65f0c7debede4920c5a159c6'), ObjectId('65f0c7debede4920c5a159c7'), ObjectId('65f0c7debede4920c5a159c8'), ObjectId('65f0c7debede4920c5a159c9'), ObjectId('65f0c7debede4920c5a159ca'), ObjectId('65f0c7debede4920c5a159cb'), ObjectId('65f0c7debede4920c5a159cc'), ObjectId('65f0c7debede4920c5a159cd'), ObjectId('65f0c7debede4920c5a159ce'), ObjectId('65f0c7debede4920c5a159cf'), ObjectId('65f0c7debede4920c5a159d0'), ObjectId('65f0c7debede4920c5a159d1'), ObjectId('65f0c7debede4920c5a159d2'), ObjectId('65f0c7debede4920c5a159d3'), ObjectId('65f0c7debede4920c5a159d4'), ObjectId('65f0c7debede4920c5a159d5'), ObjectId('65f0c7debede4920c5a159d6'), ObjectId('65f0c7debede4920c5a159d7'), ObjectId('65f0c7debede4920c5a159d8'), ObjectId('65f0c7debede4920c5a159d9'), ObjectId('65f0c7debede4920c5a159da'), ObjectId('65f0c7debede4920c5a159db'), ObjectId('65f0c7debede4920c5a159dc'), ObjectId('65f0c7debede4920c5a159dd'), ObjectId('65f0c7debede4920c5a159de'), ObjectId('65f0c7debede4920c5a159df'), ObjectId('65f0c7debede4920c5a159e0'), ObjectId('65f0c7debede4920c5a159e1'), ObjectId('65f0c7debede4920c5a159e2'), ObjectId('65f0c7debede4920c5a159e3'), ObjectId('65f0c7debede4920c5a159e4'), ObjectId('65f0c7debede4920c5a159e5'), ObjectId('65f0c7debede4920c5a159e6'), ObjectId('65f0c7debede4920c5a159e7'), ObjectId('65f0c7debede4920c5a159e8'), ObjectId('65f0c7debede4920c5a159e9'), ObjectId('65f0c7debede4920c5a159ea'), ObjectId('65f0c7debede4920c5a159eb'), ObjectId('65f0c7debede4920c5a159ec'), ObjectId('65f0c7debede4920c5a159ed'), ObjectId('65f0c7debede4920c5a159ee'), ObjectId('65f0c7debede4920c5a159ef'), ObjectId('65f0c7debede4920c5a159f0'), ObjectId('65f0c7debede4920c5a159f1'), ObjectId('65f0c7debede4920c5a159f2'), ObjectId('65f0c7debede4920c5a159f3'), ObjectId('65f0c7debede4920c5a159f4'), ObjectId('65f0c7debede4920c5a159f5'), ObjectId('65f0c7debede4920c5a159f6'), ObjectId('65f0c7debede4920c5a159f7'), ObjectId('65f0c7debede4920c5a159f8'), ObjectId('65f0c7debede4920c5a159f9'), ObjectId('65f0c7debede4920c5a159fa'), ObjectId('65f0c7debede4920c5a159fb'), ObjectId('65f0c7debede4920c5a159fc'), ObjectId('65f0c7debede4920c5a159fd'), ObjectId('65f0c7debede4920c5a159fe'), ObjectId('65f0c7debede4920c5a159ff'), ObjectId('65f0c7debede4920c5a15a00'), ObjectId('65f0c7debede4920c5a15a01'), ObjectId('65f0c7debede4920c5a15a02'), ObjectId('65f0c7debede4920c5a15a03'), ObjectId('65f0c7debede4920c5a15a04'), ObjectId('65f0c7debede4920c5a15a05'), ObjectId('65f0c7debede4920c5a15a06'), ObjectId('65f0c7debede4920c5a15a07'), ObjectId('65f0c7debede4920c5a15a08'), ObjectId('65f0c7debede4920c5a15a09'), ObjectId('65f0c7debede4920c5a15a0a'), ObjectId('65f0c7debede4920c5a15a0b'), ObjectId('65f0c7debede4920c5a15a0c'), ObjectId('65f0c7debede4920c5a15a0d'), ObjectId('65f0c7debede4920c5a15a0e'), ObjectId('65f0c7debede4920c5a15a0f'), ObjectId('65f0c7debede4920c5a15a10'), ObjectId('65f0c7debede4920c5a15a11'), ObjectId('65f0c7debede4920c5a15a12'), ObjectId('65f0c7debede4920c5a15a13'), ObjectId('65f0c7debede4920c5a15a14'), ObjectId('65f0c7debede4920c5a15a15'), ObjectId('65f0c7debede4920c5a15a16'), ObjectId('65f0c7debede4920c5a15a17'), ObjectId('65f0c7debede4920c5a15a18'), ObjectId('65f0c7debede4920c5a15a19'), ObjectId('65f0c7debede4920c5a15a1a'), ObjectId('65f0c7debede4920c5a15a1b'), ObjectId('65f0c7debede4920c5a15a1c'), ObjectId('65f0c7debede4920c5a15a1d'), ObjectId('65f0c7debede4920c5a15a1e'), ObjectId('65f0c7debede4920c5a15a1f'), ObjectId('65f0c7debede4920c5a15a20'), ObjectId('65f0c7debede4920c5a15a21'), ObjectId('65f0c7debede4920c5a15a22'), ObjectId('65f0c7debede4920c5a15a23'), ObjectId('65f0c7debede4920c5a15a24'), ObjectId('65f0c7debede4920c5a15a25'), ObjectId('65f0c7debede4920c5a15a26'), ObjectId('65f0c7debede4920c5a15a27'), ObjectId('65f0c7debede4920c5a15a28'), ObjectId('65f0c7debede4920c5a15a29'), ObjectId('65f0c7debede4920c5a15a2a'), ObjectId('65f0c7debede4920c5a15a2b'), ObjectId('65f0c7debede4920c5a15a2c'), ObjectId('65f0c7debede4920c5a15a2d'), ObjectId('65f0c7debede4920c5a15a2e'), ObjectId('65f0c7debede4920c5a15a2f'), ObjectId('65f0c7debede4920c5a15a30'), ObjectId('65f0c7debede4920c5a15a31'), ObjectId('65f0c7debede4920c5a15a32'), ObjectId('65f0c7debede4920c5a15a33'), ObjectId('65f0c7debede4920c5a15a34'), ObjectId('65f0c7debede4920c5a15a35'), ObjectId('65f0c7debede4920c5a15a36'), ObjectId('65f0c7debede4920c5a15a37'), ObjectId('65f0c7debede4920c5a15a38'), ObjectId('65f0c7debede4920c5a15a39'), ObjectId('65f0c7debede4920c5a15a3a'), ObjectId('65f0c7debede4920c5a15a3b'), ObjectId('65f0c7debede4920c5a15a3c'), ObjectId('65f0c7debede4920c5a15a3d'), ObjectId('65f0c7debede4920c5a15a3e'), ObjectId('65f0c7debede4920c5a15a3f'), ObjectId('65f0c7debede4920c5a15a40'), ObjectId('65f0c7debede4920c5a15a41'), ObjectId('65f0c7debede4920c5a15a42'), ObjectId('65f0c7debede4920c5a15a43'), ObjectId('65f0c7debede4920c5a15a44'), ObjectId('65f0c7debede4920c5a15a45'), ObjectId('65f0c7debede4920c5a15a46'), ObjectId('65f0c7debede4920c5a15a47'), ObjectId('65f0c7debede4920c5a15a48'), ObjectId('65f0c7debede4920c5a15a49'), ObjectId('65f0c7debede4920c5a15a4a'), ObjectId('65f0c7debede4920c5a15a4b'), ObjectId('65f0c7debede4920c5a15a4c'), ObjectId('65f0c7debede4920c5a15a4d'), ObjectId('65f0c7debede4920c5a15a4e'), ObjectId('65f0c7debede4920c5a15a4f'), ObjectId('65f0c7debede4920c5a15a50'), ObjectId('65f0c7debede4920c5a15a51'), ObjectId('65f0c7debede4920c5a15a52'), ObjectId('65f0c7debede4920c5a15a53'), ObjectId('65f0c7debede4920c5a15a54'), ObjectId('65f0c7debede4920c5a15a55'), ObjectId('65f0c7debede4920c5a15a56'), ObjectId('65f0c7debede4920c5a15a57'), ObjectId('65f0c7debede4920c5a15a58'), ObjectId('65f0c7debede4920c5a15a59'), ObjectId('65f0c7debede4920c5a15a5a'), ObjectId('65f0c7debede4920c5a15a5b'), ObjectId('65f0c7debede4920c5a15a5c'), ObjectId('65f0c7debede4920c5a15a5d'), ObjectId('65f0c7debede4920c5a15a5e'), ObjectId('65f0c7debede4920c5a15a5f'), ObjectId('65f0c7debede4920c5a15a60'), ObjectId('65f0c7debede4920c5a15a61'), ObjectId('65f0c7debede4920c5a15a62'), ObjectId('65f0c7debede4920c5a15a63'), ObjectId('65f0c7debede4920c5a15a64'), ObjectId('65f0c7debede4920c5a15a65'), ObjectId('65f0c7debede4920c5a15a66'), ObjectId('65f0c7debede4920c5a15a67'), ObjectId('65f0c7debede4920c5a15a68'), ObjectId('65f0c7debede4920c5a15a69'), ObjectId('65f0c7debede4920c5a15a6a'), ObjectId('65f0c7debede4920c5a15a6b'), ObjectId('65f0c7debede4920c5a15a6c'), ObjectId('65f0c7debede4920c5a15a6d'), ObjectId('65f0c7debede4920c5a15a6e'), ObjectId('65f0c7debede4920c5a15a6f'), ObjectId('65f0c7debede4920c5a15a70'), ObjectId('65f0c7debede4920c5a15a71'), ObjectId('65f0c7debede4920c5a15a72'), ObjectId('65f0c7debede4920c5a15a73'), ObjectId('65f0c7debede4920c5a15a74'), ObjectId('65f0c7debede4920c5a15a75'), ObjectId('65f0c7debede4920c5a15a76'), ObjectId('65f0c7debede4920c5a15a77'), ObjectId('65f0c7debede4920c5a15a78'), ObjectId('65f0c7debede4920c5a15a79'), ObjectId('65f0c7debede4920c5a15a7a'), ObjectId('65f0c7debede4920c5a15a7b'), ObjectId('65f0c7debede4920c5a15a7c'), ObjectId('65f0c7debede4920c5a15a7d'), ObjectId('65f0c7debede4920c5a15a7e'), ObjectId('65f0c7debede4920c5a15a7f'), ObjectId('65f0c7debede4920c5a15a80'), ObjectId('65f0c7debede4920c5a15a81'), ObjectId('65f0c7debede4920c5a15a82'), ObjectId('65f0c7debede4920c5a15a83'), ObjectId('65f0c7debede4920c5a15a84'), ObjectId('65f0c7debede4920c5a15a85'), ObjectId('65f0c7debede4920c5a15a86'), ObjectId('65f0c7debede4920c5a15a87'), ObjectId('65f0c7debede4920c5a15a88'), ObjectId('65f0c7debede4920c5a15a89'), ObjectId('65f0c7debede4920c5a15a8a'), ObjectId('65f0c7debede4920c5a15a8b'), ObjectId('65f0c7debede4920c5a15a8c'), ObjectId('65f0c7debede4920c5a15a8d'), ObjectId('65f0c7debede4920c5a15a8e'), ObjectId('65f0c7debede4920c5a15a8f'), ObjectId('65f0c7debede4920c5a15a90'), ObjectId('65f0c7debede4920c5a15a91'), ObjectId('65f0c7debede4920c5a15a92'), ObjectId('65f0c7debede4920c5a15a93'), ObjectId('65f0c7debede4920c5a15a94'), ObjectId('65f0c7debede4920c5a15a95'), ObjectId('65f0c7debede4920c5a15a96'), ObjectId('65f0c7debede4920c5a15a97'), ObjectId('65f0c7debede4920c5a15a98'), ObjectId('65f0c7debede4920c5a15a99'), ObjectId('65f0c7debede4920c5a15a9a'), ObjectId('65f0c7debede4920c5a15a9b'), ObjectId('65f0c7debede4920c5a15a9c'), ObjectId('65f0c7debede4920c5a15a9d'), ObjectId('65f0c7debede4920c5a15a9e'), ObjectId('65f0c7debede4920c5a15a9f'), ObjectId('65f0c7debede4920c5a15aa0'), ObjectId('65f0c7debede4920c5a15aa1'), ObjectId('65f0c7debede4920c5a15aa2'), ObjectId('65f0c7debede4920c5a15aa3'), ObjectId('65f0c7debede4920c5a15aa4'), ObjectId('65f0c7debede4920c5a15aa5'), ObjectId('65f0c7debede4920c5a15aa6'), ObjectId('65f0c7debede4920c5a15aa7'), ObjectId('65f0c7debede4920c5a15aa8'), ObjectId('65f0c7debede4920c5a15aa9'), ObjectId('65f0c7debede4920c5a15aaa'), ObjectId('65f0c7debede4920c5a15aab'), ObjectId('65f0c7debede4920c5a15aac'), ObjectId('65f0c7debede4920c5a15aad'), ObjectId('65f0c7debede4920c5a15aae'), ObjectId('65f0c7debede4920c5a15aaf'), ObjectId('65f0c7debede4920c5a15ab0'), ObjectId('65f0c7debede4920c5a15ab1'), ObjectId('65f0c7debede4920c5a15ab2'), ObjectId('65f0c7debede4920c5a15ab3'), ObjectId('65f0c7debede4920c5a15ab4'), ObjectId('65f0c7debede4920c5a15ab5'), ObjectId('65f0c7debede4920c5a15ab6'), ObjectId('65f0c7debede4920c5a15ab7'), ObjectId('65f0c7debede4920c5a15ab8'), ObjectId('65f0c7debede4920c5a15ab9'), ObjectId('65f0c7debede4920c5a15aba'), ObjectId('65f0c7debede4920c5a15abb'), ObjectId('65f0c7debede4920c5a15abc'), ObjectId('65f0c7debede4920c5a15abd'), ObjectId('65f0c7debede4920c5a15abe'), ObjectId('65f0c7debede4920c5a15abf'), ObjectId('65f0c7debede4920c5a15ac0'), ObjectId('65f0c7debede4920c5a15ac1'), ObjectId('65f0c7debede4920c5a15ac2'), ObjectId('65f0c7debede4920c5a15ac3'), ObjectId('65f0c7debede4920c5a15ac4'), ObjectId('65f0c7debede4920c5a15ac5'), ObjectId('65f0c7debede4920c5a15ac6'), ObjectId('65f0c7debede4920c5a15ac7')], acknowledged=True)"
      ]
     },
     "execution_count": 179,
     "metadata": {},
     "output_type": "execute_result"
    }
   ],
   "source": [
    "\n",
    "collection.insert_many(data)"
   ]
  },
  {
   "cell_type": "code",
   "execution_count": null,
   "id": "1f2a6dfc",
   "metadata": {},
   "outputs": [],
   "source": []
  }
 ],
 "metadata": {
  "kernelspec": {
   "display_name": "Python 3 (ipykernel)",
   "language": "python",
   "name": "python3"
  },
  "language_info": {
   "codemirror_mode": {
    "name": "ipython",
    "version": 3
   },
   "file_extension": ".py",
   "mimetype": "text/x-python",
   "name": "python",
   "nbconvert_exporter": "python",
   "pygments_lexer": "ipython3",
   "version": "3.11.5"
  }
 },
 "nbformat": 4,
 "nbformat_minor": 5
}
